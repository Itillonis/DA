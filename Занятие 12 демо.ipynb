{
 "cells": [
  {
   "cell_type": "markdown",
   "metadata": {
    "toc": true
   },
   "source": [
    "<h1>Table of Contents<span class=\"tocSkip\"></span></h1>\n",
    "<div class=\"toc\"><ul class=\"toc-item\"><li><span><a href=\"#Занятие-12\" data-toc-modified-id=\"Занятие-12-1\"><span class=\"toc-item-num\">1&nbsp;&nbsp;</span>Занятие 12</a></span><ul class=\"toc-item\"><li><span><a href=\"#Оценка-распределений\" data-toc-modified-id=\"Оценка-распределений-1.1\"><span class=\"toc-item-num\">1.1&nbsp;&nbsp;</span>Оценка распределений</a></span><ul class=\"toc-item\"><li><span><a href=\"#Дискретное\" data-toc-modified-id=\"Дискретное-1.1.1\"><span class=\"toc-item-num\">1.1.1&nbsp;&nbsp;</span>Дискретное</a></span></li><li><span><a href=\"#Непрерывное\" data-toc-modified-id=\"Непрерывное-1.1.2\"><span class=\"toc-item-num\">1.1.2&nbsp;&nbsp;</span>Непрерывное</a></span></li><li><span><a href=\"#Предсказательный-интервал\" data-toc-modified-id=\"Предсказательный-интервал-1.1.3\"><span class=\"toc-item-num\">1.1.3&nbsp;&nbsp;</span>Предсказательный интервал</a></span></li><li><span><a href=\"#Доверительный-интервал\" data-toc-modified-id=\"Доверительный-интервал-1.1.4\"><span class=\"toc-item-num\">1.1.4&nbsp;&nbsp;</span>Доверительный интервал</a></span></li></ul></li><li><span><a href=\"#Центральная-предельная-теорема\" data-toc-modified-id=\"Центральная-предельная-теорема-1.2\"><span class=\"toc-item-num\">1.2&nbsp;&nbsp;</span>Центральная предельная теорема</a></span><ul class=\"toc-item\"><li><ul class=\"toc-item\"><li><span><a href=\"#То-же-и-для-дискретных,-посмотрим-на-примере-биномиального-распределения\" data-toc-modified-id=\"То-же-и-для-дискретных,-посмотрим-на-примере-биномиального-распределения-1.2.0.1\"><span class=\"toc-item-num\">1.2.0.1&nbsp;&nbsp;</span>То же и для дискретных, посмотрим на примере биномиального распределения</a></span></li></ul></li><li><span><a href=\"#Всегда-ли-ЦПТ-хорошо-работает?\" data-toc-modified-id=\"Всегда-ли-ЦПТ-хорошо-работает?-1.2.1\"><span class=\"toc-item-num\">1.2.1&nbsp;&nbsp;</span>Всегда ли ЦПТ хорошо работает?</a></span><ul class=\"toc-item\"><li><span><a href=\"#Попробуем-уменьшить-вероятность-успеха-в-серии-n-независимых-испытаний,-тем-самым,-сделаем-наше-распределение-успехов-несколько-более-ассиметричным\" data-toc-modified-id=\"Попробуем-уменьшить-вероятность-успеха-в-серии-n-независимых-испытаний,-тем-самым,-сделаем-наше-распределение-успехов-несколько-более-ассиметричным-1.2.1.1\"><span class=\"toc-item-num\">1.2.1.1&nbsp;&nbsp;</span>Попробуем уменьшить вероятность успеха в серии n независимых испытаний, тем самым, сделаем наше распределение успехов несколько более ассиметричным</a></span></li></ul></li></ul></li></ul></li></ul></div>"
   ]
  },
  {
   "cell_type": "markdown",
   "metadata": {
    "id": "pLTUNG4IDm2R"
   },
   "source": [
    "# Занятие 12"
   ]
  },
  {
   "cell_type": "code",
   "execution_count": 1,
   "metadata": {
    "id": "-bcV0a2zDLtb"
   },
   "outputs": [],
   "source": [
    "import pandas as pd\n",
    "import numpy as np\n",
    "import matplotlib.pyplot as plt\n",
    "import scipy.stats as sts\n",
    "%matplotlib inline\n",
    "import statsmodels.stats.weightstats as ssw"
   ]
  },
  {
   "cell_type": "markdown",
   "metadata": {
    "id": "m6IF_67zDqCi"
   },
   "source": [
    "## Оценка распределений"
   ]
  },
  {
   "cell_type": "markdown",
   "metadata": {
    "id": "axbYHglJDtqG"
   },
   "source": [
    "### Дискретное"
   ]
  },
  {
   "cell_type": "code",
   "execution_count": 2,
   "metadata": {
    "colab": {
     "base_uri": "https://localhost:8080/"
    },
    "id": "-2fAgE4xDL7Z",
    "outputId": "45ee12ca-734c-41fa-9c79-f9f2ea38adb3"
   },
   "outputs": [
    {
     "data": {
      "text/plain": [
       "array([3, 3, 5, 1, 2, 1, 3, 3, 3, 3, 2, 2, 5, 4, 2, 2, 4, 4, 2, 3, 5, 6,\n",
       "       5, 6, 5, 6, 2, 4, 5, 4, 2, 2, 3, 3, 1, 5, 2, 1, 3, 2, 6, 1, 4, 2,\n",
       "       6, 3, 4, 5, 1, 4, 4, 1, 6, 2, 5, 4, 3, 2, 3, 5, 2, 3, 1, 3, 2, 6,\n",
       "       3, 1, 2, 4, 6, 3, 6, 1, 1, 4, 1, 5, 3, 4, 6, 2, 5, 4, 1, 6, 2, 5,\n",
       "       2, 1, 1, 2, 3, 4, 6, 6, 4, 4, 3, 1])"
      ]
     },
     "execution_count": 2,
     "metadata": {},
     "output_type": "execute_result"
    }
   ],
   "source": [
    "N = 100\n",
    "sample = np.random.choice([1,2,3,4,5,6], N)\n",
    "sample"
   ]
  },
  {
   "cell_type": "code",
   "execution_count": 3,
   "metadata": {
    "colab": {
     "base_uri": "https://localhost:8080/"
    },
    "id": "WimoFRQKD1sB",
    "outputId": "c506e3ca-002e-4731-b776-4e1ccf172b76"
   },
   "outputs": [
    {
     "name": "stdout",
     "output_type": "stream",
     "text": [
      "[16 21 20 17 13 13]\n",
      "[0.16 0.21 0.2  0.17 0.13 0.13]\n",
      "[1 2 3 4 5 6]\n",
      "1.0\n"
     ]
    }
   ],
   "source": [
    "# оценим функцию вероятности частотами\n",
    "unique_value, counts = np.unique(sample, return_counts=True)\n",
    "\n",
    "print(counts)\n",
    "print(counts / N)\n",
    "print(unique_value)\n",
    "print (np.sum(counts / N))"
   ]
  },
  {
   "cell_type": "code",
   "execution_count": 4,
   "metadata": {
    "colab": {
     "base_uri": "https://localhost:8080/"
    },
    "id": "RLyrVaq8jsQ7",
    "outputId": "94b52b5a-a239-4b2c-8001-b9e4b940e6eb"
   },
   "outputs": [
    {
     "name": "stdout",
     "output_type": "stream",
     "text": [
      "[1 2 3 4 5]\n",
      "10: [0.1 0.1 0.2 0.3 0.3] 1.0\n",
      "[1 2 3 4 5 6]\n",
      "100: [0.14 0.15 0.21 0.21 0.16 0.13] 1.0\n",
      "[1 2 3 4 5 6]\n",
      "1000: [0.166 0.171 0.168 0.178 0.153 0.164] 1.0\n",
      "[1 2 3 4 5 6]\n",
      "10000: [0.1737 0.1657 0.1669 0.1608 0.1714 0.1615] 1.0\n",
      "[1 2 3 4 5 6]\n",
      "100000: [0.16716 0.16536 0.16775 0.16594 0.16613 0.16766] 1.0\n"
     ]
    }
   ],
   "source": [
    "for N in [10, 100, 1000, 10000, 100000]:\n",
    "    sample = np.random.choice([1,2,3,4,5,6], N)\n",
    "    unique_value, counts = np.unique(sample, return_counts=True)\n",
    "    print(unique_value)\n",
    "    print(\"{}: {} {}\".format(N, counts/N, np.sum(counts/N)))"
   ]
  },
  {
   "cell_type": "code",
   "execution_count": 5,
   "metadata": {
    "colab": {
     "base_uri": "https://localhost:8080/"
    },
    "id": "IDRfewmokN09",
    "outputId": "a2d050cf-ece8-4a75-e2ef-4885ba19938f"
   },
   "outputs": [
    {
     "data": {
      "text/plain": [
       "0.16666666666666666"
      ]
     },
     "execution_count": 5,
     "metadata": {},
     "output_type": "execute_result"
    }
   ],
   "source": [
    "1/6"
   ]
  },
  {
   "cell_type": "markdown",
   "metadata": {
    "id": "FTC7rHEYDvmz"
   },
   "source": [
    "### Непрерывное"
   ]
  },
  {
   "cell_type": "code",
   "execution_count": 6,
   "metadata": {
    "id": "k4pQRYwjDLnz"
   },
   "outputs": [],
   "source": [
    "# возьмём выборку из нормального распределения\n",
    "norm_rv = sts.norm(0, 1)\n",
    "sample = norm_rv.rvs(10)\n",
    "#sample"
   ]
  },
  {
   "cell_type": "code",
   "execution_count": 7,
   "metadata": {
    "colab": {
     "base_uri": "https://localhost:8080/",
     "height": 316
    },
    "id": "aF6nrO0lEbYB",
    "outputId": "bbc3d760-7b46-4074-ef0f-6ede2278a237"
   },
   "outputs": [
    {
     "data": {
      "text/plain": [
       "[<matplotlib.lines.Line2D at 0x7fd14775e3d0>]"
      ]
     },
     "execution_count": 7,
     "metadata": {},
     "output_type": "execute_result"
    },
    {
     "data": {
      "image/png": "[encoded data removed]",
      "text/plain": [
       "<Figure size 432x288 with 1 Axes>"
      ]
     },
     "metadata": {
      "needs_background": "light"
     },
     "output_type": "display_data"
    }
   ],
   "source": [
    "x = np.linspace(-4,4,100)\n",
    "cdf = norm_rv.cdf(x)\n",
    "plt.plot(x, cdf, label='Теоретическая функция распределения')\n",
    "\n",
    "# Воспользуемся библиотекой для оценки (спасибо питон!)\n",
    "from statsmodels.distributions.empirical_distribution import ECDF\n",
    "ecdf = ECDF(sample)\n",
    "plt.step(ecdf.x, ecdf.y, label='Оценка функции распределения')\n"
   ]
  },
  {
   "cell_type": "code",
   "execution_count": 8,
   "metadata": {
    "colab": {
     "base_uri": "https://localhost:8080/",
     "height": 282
    },
    "id": "OdIcVbG_E_1k",
    "outputId": "3187a035-9b4a-4080-95c0-b49a7fb77548"
   },
   "outputs": [
    {
     "name": "stdout",
     "output_type": "stream",
     "text": [
      "[1. 0. 0. 3. 1. 1. 2. 1. 0. 1.]\n"
     ]
    },
    {
     "data": {
      "image/png": "[encoded data removed]",
      "text/plain": [
       "<Figure size 432x288 with 1 Axes>"
      ]
     },
     "metadata": {
      "needs_background": "light"
     },
     "output_type": "display_data"
    }
   ],
   "source": [
    "# теперь посмотрим на функцию плотности\n",
    "b, n, _ = plt.hist(sample, )\n",
    "print(b)"
   ]
  },
  {
   "cell_type": "code",
   "execution_count": 9,
   "metadata": {
    "colab": {
     "base_uri": "https://localhost:8080/"
    },
    "id": "wlutQ9DTevwQ",
    "outputId": "9db02c3f-5b9f-4429-c408-a46491b2e6ad"
   },
   "outputs": [
    {
     "data": {
      "text/plain": [
       "11"
      ]
     },
     "execution_count": 9,
     "metadata": {},
     "output_type": "execute_result"
    }
   ],
   "source": [
    "len(n)"
   ]
  },
  {
   "cell_type": "code",
   "execution_count": 10,
   "metadata": {
    "colab": {
     "base_uri": "https://localhost:8080/",
     "height": 282
    },
    "id": "DYFrqDsqFQrO",
    "outputId": "78b1f110-235c-4af9-806e-b2ddbeea3184"
   },
   "outputs": [
    {
     "data": {
      "text/plain": [
       "<matplotlib.legend.Legend at 0x7fd1475e2df0>"
      ]
     },
     "execution_count": 10,
     "metadata": {},
     "output_type": "execute_result"
    },
    {
     "data": {
      "image/png": "[encoded data removed]",
      "text/plain": [
       "<Figure size 432x288 with 1 Axes>"
      ]
     },
     "metadata": {
      "needs_background": "light"
     },
     "output_type": "display_data"
    }
   ],
   "source": [
    "# ядерное сглаживание\n",
    "# можно сделать в pandas\n",
    "df = pd.DataFrame(sample, columns=['KDE'])\n",
    "ax = df.plot(kind='density')\n",
    "\n",
    "# строим теоретическую плотность\n",
    "x = np.linspace(-4,4,100)\n",
    "pdf = norm_rv.pdf(x)\n",
    "plt.plot(x, pdf, label='теоретическая плотность', alpha=0.5)\n",
    "plt.legend()"
   ]
  },
  {
   "cell_type": "markdown",
   "metadata": {
    "id": "VOFaXjx4PnqZ"
   },
   "source": [
    "### Предсказательный интервал\n",
    "Имеем $X \\sim N(\\mu, \\sigma^2)$. Согласно правилу [2-х сигм](https://ru.wikipedia.org/wiki/%D0%A1%D1%80%D0%B5%D0%B4%D0%BD%D0%B5%D0%BA%D0%B2%D0%B0%D0%B4%D1%80%D0%B0%D1%82%D0%B8%D1%87%D0%B5%D1%81%D0%BA%D0%BE%D0%B5_%D0%BE%D1%82%D0%BA%D0%BB%D0%BE%D0%BD%D0%B5%D0%BD%D0%B8%D0%B5#%D0%9F%D1%80%D0%B0%D0%B2%D0%B8%D0%BB%D0%BE_%D1%82%D1%80%D1%91%D1%85_%D1%81%D0%B8%D0%B3%D0%BC) имеем $$\\mathbf{P}(\\mu - 2 \\sigma \\leq X \\leq \\mu + 2 \\sigma) \\approx 0.95$$\n",
    "\n",
    "\n",
    "\n",
    "Если мы применим данное правило к стандартному нормальному распределению $X \\sim N(0,1)$, то получим\n",
    "$$\\mathbf{P}(0 - 2 \\cdot 1 \\leq X \\leq 0 + 2 \\cdot 1) \\approx 0.95$$\n",
    "\n",
    "Проиллюстрируем это визуально"
   ]
  },
  {
   "cell_type": "code",
   "execution_count": 11,
   "metadata": {
    "colab": {
     "base_uri": "https://localhost:8080/"
    },
    "id": "gmMy5mFYQJ13",
    "outputId": "1f7f1883-f94a-4d56-8173-8a029b4b675d"
   },
   "outputs": [
    {
     "data": {
      "text/plain": [
       "array([-1.90251127e-01, -1.77361805e+00, -2.24142301e-01,  7.17958613e-01,\n",
       "        6.60575213e-01, -2.07027047e-01, -9.27848638e-02, -6.46157827e-01,\n",
       "        1.10895721e+00, -2.27827702e+00, -4.53812461e-01, -1.03741104e+00,\n",
       "        1.95611516e+00, -2.74900951e-01, -9.88347093e-01, -6.61783184e-01,\n",
       "        4.50379866e-01, -3.59052743e-01,  5.99945086e-01,  3.65886069e-01,\n",
       "        1.15473869e+00, -2.47184001e-01,  2.96669788e-01, -9.50732712e-02,\n",
       "       -1.30432696e+00, -1.57690485e+00,  9.36347985e-01, -7.82040526e-01,\n",
       "       -8.07511395e-02, -1.07532986e+00, -4.54964399e-01,  8.60120958e-04,\n",
       "       -2.50590102e-01, -1.98579319e-01, -1.37544052e+00,  7.25093089e-01,\n",
       "        7.48479928e-01,  1.61271469e+00, -2.01140681e-01,  1.77596290e-01,\n",
       "        5.52362391e-01,  2.96196793e-01, -1.25630692e-02, -7.03441496e-01,\n",
       "        5.32899069e-01, -1.62752070e+00,  1.91339935e+00, -4.22081680e-02,\n",
       "        2.54771068e+00, -2.15356540e-01, -7.06251086e-01, -1.57255382e+00,\n",
       "        2.97211641e-02,  1.25055482e+00, -3.97415921e-01,  2.28392779e+00,\n",
       "       -1.30254870e-01,  6.42070360e-01, -1.49181565e-01,  1.01798239e+00,\n",
       "       -2.08109459e+00,  1.54772945e+00, -1.84995528e-01, -2.59472285e-01,\n",
       "       -2.96751316e-02,  2.07639886e+00,  7.33665893e-02,  8.33580335e-01,\n",
       "        1.21977204e+00,  7.21486284e-01,  2.36115265e+00, -5.61903921e-01,\n",
       "       -1.78669847e+00, -9.07477193e-01, -9.34022567e-02,  2.18243644e-01,\n",
       "        7.88484354e-01, -2.79133113e-01,  1.54048279e+00, -6.25133590e-01,\n",
       "        9.31881089e-01,  4.30298722e-01,  6.33208136e-01,  9.64523646e-01,\n",
       "        8.57741139e-01, -6.08050972e-01, -4.81563619e-01,  4.03320387e-01,\n",
       "        3.35170067e-01,  7.43068936e-01, -4.19209717e-01, -1.94871791e-01,\n",
       "        1.25191691e+00,  1.70443557e+00,  6.74315458e-01, -6.92327044e-01,\n",
       "       -1.26631218e+00,  1.35029483e+00,  4.04585969e-02, -2.09133940e-01])"
      ]
     },
     "execution_count": 11,
     "metadata": {},
     "output_type": "execute_result"
    }
   ],
   "source": [
    "# возьмём выборку из стандартного нормального распределения\n",
    "norm_rv = sts.norm(0, 1)\n",
    "sample = norm_rv.rvs(100)\n",
    "sample"
   ]
  },
  {
   "cell_type": "code",
   "execution_count": 12,
   "metadata": {
    "colab": {
     "base_uri": "https://localhost:8080/",
     "height": 282
    },
    "id": "9UHr_jUQQ5ym",
    "outputId": "1e3ec0c4-9b14-42ac-9727-b65e6d23c2a5"
   },
   "outputs": [
    {
     "data": {
      "text/plain": [
       "<matplotlib.collections.PolyCollection at 0x7fd148351940>"
      ]
     },
     "execution_count": 12,
     "metadata": {},
     "output_type": "execute_result"
    },
    {
     "data": {
      "image/png": "[encoded data removed]",
      "text/plain": [
       "<Figure size 432x288 with 1 Axes>"
      ]
     },
     "metadata": {
      "needs_background": "light"
     },
     "output_type": "display_data"
    }
   ],
   "source": [
    "x = np.linspace(-5,5,1000000)\n",
    "pdf = norm_rv.pdf(x)\n",
    "plt.plot(x, pdf, label='теоретическая плотность', alpha=0.5)\n",
    "to_fill = np.linspace(-1.96, 1.96, 100)\n",
    "plt.fill_between(to_fill, norm_rv.pdf(to_fill), alpha=0.5, color='green')"
   ]
  },
  {
   "cell_type": "code",
   "execution_count": 13,
   "metadata": {
    "colab": {
     "base_uri": "https://localhost:8080/"
    },
    "id": "9q0058LcsFKz",
    "outputId": "01127550-2619-4228-8225-b9c51dc361c6"
   },
   "outputs": [
    {
     "data": {
      "text/plain": [
       "0.058440944333451476"
      ]
     },
     "execution_count": 13,
     "metadata": {},
     "output_type": "execute_result"
    }
   ],
   "source": [
    "norm_rv.pdf(-1.96)"
   ]
  },
  {
   "cell_type": "markdown",
   "metadata": {
    "id": "FyryheNiUpkq"
   },
   "source": [
    "Оценка эта неточная, и не всегда нам нужно именно 0.95 вероятностной массы. \n",
    "\n",
    "В общем случае работают с квантилями"
   ]
  },
  {
   "cell_type": "code",
   "execution_count": 14,
   "metadata": {
    "colab": {
     "base_uri": "https://localhost:8080/"
    },
    "id": "6BVgAyBYVAba",
    "outputId": "6bf3c9df-1b9d-4ff1-fbd8-843e9bc8e238"
   },
   "outputs": [
    {
     "data": {
      "text/plain": [
       "0.0"
      ]
     },
     "execution_count": 14,
     "metadata": {},
     "output_type": "execute_result"
    }
   ],
   "source": [
    "norm_rv.ppf(0.5)"
   ]
  },
  {
   "cell_type": "code",
   "execution_count": 15,
   "metadata": {
    "colab": {
     "base_uri": "https://localhost:8080/",
     "height": 282
    },
    "id": "7lDzZnecU0AA",
    "outputId": "84be47d9-723a-49fc-cc4f-90877781eeb6"
   },
   "outputs": [
    {
     "data": {
      "text/plain": [
       "<matplotlib.collections.PolyCollection at 0x7fd130496610>"
      ]
     },
     "execution_count": 15,
     "metadata": {},
     "output_type": "execute_result"
    },
    {
     "data": {
      "image/png": "[encoded data removed]",
      "text/plain": [
       "<Figure size 432x288 with 1 Axes>"
      ]
     },
     "metadata": {
      "needs_background": "light"
     },
     "output_type": "display_data"
    }
   ],
   "source": [
    "alpha = 0.05\n",
    "pdf = norm_rv.pdf(x)\n",
    "plt.plot(x, pdf, label='теоретическая плотность', alpha=0.5)\n",
    "q_a = norm_rv.ppf(alpha/2)\n",
    "q_b = norm_rv.ppf(1-alpha/2)\n",
    "to_fill = np.linspace(q_a, q_b, 100)\n",
    "plt.fill_between(to_fill, norm_rv.pdf(to_fill), alpha=0.5, color='green')"
   ]
  },
  {
   "cell_type": "markdown",
   "metadata": {
    "id": "e1ffy4vDV2TW"
   },
   "source": [
    "Теперь, если мы хотим найти такой интервал в котором с вероятностью 95% окажется реализация нашей случайной величины, нам лишь нужно найти соответствующие квантили $X_{\\frac{\\alpha}{2}}$ и $X_{1-\\frac{\\alpha}{2}}$."
   ]
  },
  {
   "cell_type": "markdown",
   "metadata": {
    "id": "cs5LfPUKW_8y"
   },
   "source": [
    "Такой интервал можем найти для произвольно распределенной случайной величины\n",
    "\n",
    "В частности, для нормально распределенной случайной величины\n",
    "$$\\mathbf{P}(\\mu - \\zeta_{1-\\frac{\\alpha}{2}} \\sigma \\leq X \\leq \\mu + \\zeta_{1-\\frac{\\alpha}{2}} \\sigma) = 1-\\alpha$$\n",
    "\n",
    "$\\zeta_{\\alpha}$ будем обозначать квантиль порядка $\\alpha$ стандартного нормального распределения (то-есть распределения $N(0,1)$). Тут мы воспользовались тем, что $\\zeta_{\\frac{\\alpha}{2}} = - \\zeta_{1-\\frac{\\alpha}{2}}$\n",
    "\n",
    "$ \\zeta_{0.975} \\approx 1.95996 \\approx 2$\n",
    "\n"
   ]
  },
  {
   "cell_type": "markdown",
   "metadata": {
    "id": "vAH-RrbsaHUU"
   },
   "source": [
    "**Предсказательный интервал оценивает диапазон значений**"
   ]
  },
  {
   "cell_type": "markdown",
   "metadata": {
    "id": "e1BULYLpPq5R"
   },
   "source": [
    "### Доверительный интервал\n",
    "Точечные оценки параметров это уже что-то, но также представляет интерес и то, в каком диапазоне изменяются оцениваемые параметры, например, средние значения.\n",
    "\n",
    "Отвечают на вопрос **в каком диапазоне скорее всего лежит оцениваемый параметр**\n",
    "\n"
   ]
  },
  {
   "cell_type": "markdown",
   "metadata": {
    "id": "OLQI3Rpqboj6"
   },
   "source": [
    "Например, снова возьмем выборку из нормального распределения $X^n = (X_1, \\dotso, X_n),\\ X \\sim \\mathbf{N}(\\mu, \\sigma^2)$\n",
    "\n",
    "Пусть нам известна дисперсия, т.е $\\sigma^2$. Тогда по [свойствам](http://www.machinelearning.ru/wiki/index.php?title=%D0%9D%D0%BE%D1%80%D0%BC%D0%B0%D0%BB%D1%8C%D0%BD%D0%BE%D0%B5_%D1%80%D0%B0%D1%81%D0%BF%D1%80%D0%B5%D0%B4%D0%B5%D0%BB%D0%B5%D0%BD%D0%B8%D0%B5) нормального распределения получаем $\\sum_{i=1}^{n} X_i \\sim \\mathbf{N}(n\\mu, n\\sigma^2) \\rightarrow \\frac{\\sum_{i=1}^{n} X_i}{n} = \\overline{X_n} \\sim \\mathbf{N}(\\mu, \\frac{\\sigma^2}{n})$\n",
    "\n",
    "По формуле для предсказательного интервала получаем $$\\mathbf{P}(\\mu - \\zeta_{1-\\frac{\\alpha}{2}} \\frac{\\sigma}{\\sqrt{n}} \\leq \\overline{X_n} \\leq \\mu + \\zeta_{1-\\frac{\\alpha}{2}} \\frac{\\sigma}{\\sqrt{n}}) = 1-\\alpha$$\n",
    "\n",
    "Теперь, переносим $\\overline{X_n}$ и $\\mu$ в неравенствах, и получаем доверительный интервал для $\\mu$\n",
    "\n",
    "$$\\mathbf{P}(\\overline{X_n} - \\zeta_{1-\\frac{\\alpha}{2}} \\frac{\\sigma}{\\sqrt{n}} \\leq \\mu \\leq \\overline{X_n} + \\zeta_{1-\\frac{\\alpha}{2}} \\frac{\\sigma}{\\sqrt{n}}) = 1-\\alpha$$"
   ]
  },
  {
   "cell_type": "code",
   "execution_count": 16,
   "metadata": {
    "colab": {
     "base_uri": "https://localhost:8080/"
    },
    "id": "5wbYENCRsZXM",
    "outputId": "45a4ced4-06f2-4dae-fdfa-71c9ac60c1df"
   },
   "outputs": [
    {
     "name": "stdout",
     "output_type": "stream",
     "text": [
      "Для N=10 ДИ 4.2963 ... 4.3738\n",
      "Для N=50 ДИ 4.8610 ... 4.8956\n",
      "Для N=100 ДИ 4.9277 ... 4.9522\n",
      "Для N=100000 ДИ 4.9996 ... 5.0003\n"
     ]
    }
   ],
   "source": [
    "# Задание, \n",
    "# 1) сгенерируйте 10, 50, 100 примеров из нормального распределения с произвольными мат ожиданием и дисперсией\n",
    "# 2) Постройте по формуле интервал с alpha = 0.05\n",
    "# ваш код тут\n",
    "mu = 5\n",
    "sigma = 7\n",
    "norm_rv = sts.norm(mu, sigma)\n",
    "N = [10, 50, 100, 100000]\n",
    "alpha = .05\n",
    "for n in N:\n",
    "    samples = np.linspace(-1, 11, n)\n",
    "    pdf = norm_rv.pdf(samples)\n",
    "    qa = norm_rv.pdf(alpha/2)\n",
    "    qb = norm_rv.pdf(1-alpha/2)\n",
    "    print (\"Для N=%.f ДИ %.4f ... %.4f\" % (n, samples[np.argmax(pdf)]-qa*np.sqrt(sigma/n), samples[np.argmax(pdf)]+qb*np.sqrt(sigma/n)))"
   ]
  },
  {
   "cell_type": "markdown",
   "metadata": {
    "id": "iOIhq23ksa_x"
   },
   "source": [
    "Случай известной дисперсии как правило встречается для измерительных приборов, когда нам известная его погрешность.\n",
    "\n",
    "Есть метод, позволяющий построить доверительный интервал и для такого случая. Разница будет лишь в том, что вместо выборочной дисперсии будет взята выборочная дисперсия, а вместо квантилей стандартного нормального распределения используют квантили распределения Стьюдента (согласно которой распределена так называемая t-статистика)"
   ]
  },
  {
   "cell_type": "markdown",
   "metadata": {
    "id": "OmAyt9Q1bzh5"
   },
   "source": [
    "Но что делать, если распределение отлично от нормального или это доподлино неизвестно?\n",
    "\n",
    "\n",
    "К счастью...\n"
   ]
  },
  {
   "cell_type": "markdown",
   "metadata": {
    "id": "LOh4CdTWF3vs"
   },
   "source": [
    "## Центральная предельная теорема"
   ]
  },
  {
   "cell_type": "code",
   "execution_count": 17,
   "metadata": {
    "colab": {
     "base_uri": "https://localhost:8080/"
    },
    "id": "_HWg2Ul-F7jk",
    "outputId": "057636cc-873f-4d68-f158-9a0071be6ac5"
   },
   "outputs": [
    {
     "data": {
      "text/plain": [
       "array([3.54241424, 2.34662635, 1.61103185, 1.46573418, 3.06823342,\n",
       "       3.7952296 , 3.58633408, 3.21716882, 1.95324763, 3.08062095])"
      ]
     },
     "execution_count": 17,
     "metadata": {},
     "output_type": "execute_result"
    }
   ],
   "source": [
    "a = 1\n",
    "b = 4\n",
    "\n",
    "# обратите внимание, что в этой функции задается левая граница и масштаб, а не левая и правая границы:\n",
    "uniform_rv = sts.uniform(a, b-a)\n",
    "\n",
    "uniform_rv.rvs(10)"
   ]
  },
  {
   "cell_type": "code",
   "execution_count": 18,
   "metadata": {
    "id": "pvuyXniYGMeE"
   },
   "outputs": [],
   "source": [
    "N = 100\n",
    "# сгенерируем много выборочных средних\n",
    "means = []\n",
    "for i in range(10000):\n",
    "    means.append(np.mean(uniform_rv.rvs(N)))"
   ]
  },
  {
   "cell_type": "code",
   "execution_count": 19,
   "metadata": {
    "colab": {
     "base_uri": "https://localhost:8080/",
     "height": 726
    },
    "id": "aU_S5A5VqnpL",
    "outputId": "8a8e7d78-7f4e-4c5c-9610-5a18639033f9"
   },
   "outputs": [
    {
     "data": {
      "text/plain": [
       "(array([0.02843493, 0.01895662, 0.01895662, 0.06634817, 0.07582649,\n",
       "        0.09478311, 0.11373973, 0.14217466, 0.17060959, 0.37913243,\n",
       "        0.33174087, 0.56869864, 0.72982992, 0.72035161, 1.21322377,\n",
       "        1.08052742, 1.33644181, 1.7724441 , 2.25583794, 2.43592584,\n",
       "        2.61601375, 3.11836421, 3.2889738 , 3.86715076, 4.11358683,\n",
       "        4.09463021, 4.28419642, 4.67280716, 4.72967703, 4.78654689,\n",
       "        4.49271926, 4.51167588, 3.96193386, 4.00932542, 3.63019299,\n",
       "        3.13732083, 2.79610165, 2.7487101 , 2.22740301, 1.84827058,\n",
       "        1.65870437, 1.35539843, 1.22270208, 0.95730938, 0.93835276,\n",
       "        0.59713357, 0.37913243, 0.29382763, 0.2653927 , 0.23695777,\n",
       "        0.12321804, 0.11373973, 0.02843493, 0.04739155, 0.04739155,\n",
       "        0.00947831, 0.00947831, 0.00947831]),\n",
       " array([2.19605515, 2.20660555, 2.21715595, 2.22770636, 2.23825676,\n",
       "        2.24880716, 2.25935757, 2.26990797, 2.28045837, 2.29100878,\n",
       "        2.30155918, 2.31210958, 2.32265999, 2.33321039, 2.34376079,\n",
       "        2.3543112 , 2.3648616 , 2.375412  , 2.38596241, 2.39651281,\n",
       "        2.40706321, 2.41761361, 2.42816402, 2.43871442, 2.44926482,\n",
       "        2.45981523, 2.47036563, 2.48091603, 2.49146644, 2.50201684,\n",
       "        2.51256724, 2.52311765, 2.53366805, 2.54421845, 2.55476886,\n",
       "        2.56531926, 2.57586966, 2.58642007, 2.59697047, 2.60752087,\n",
       "        2.61807128, 2.62862168, 2.63917208, 2.64972249, 2.66027289,\n",
       "        2.67082329, 2.6813737 , 2.6919241 , 2.7024745 , 2.71302491,\n",
       "        2.72357531, 2.73412571, 2.74467612, 2.75522652, 2.76577692,\n",
       "        2.77632733, 2.78687773, 2.79742813, 2.80797854]),\n",
       " <BarContainer object of 58 artists>)"
      ]
     },
     "execution_count": 19,
     "metadata": {},
     "output_type": "execute_result"
    },
    {
     "data": {
      "image/png": "[encoded data removed]",
      "text/plain": [
       "<Figure size 432x288 with 1 Axes>"
      ]
     },
     "metadata": {
      "needs_background": "light"
     },
     "output_type": "display_data"
    }
   ],
   "source": [
    "plt.hist(means, density=True, bins='auto')"
   ]
  },
  {
   "cell_type": "code",
   "execution_count": 20,
   "metadata": {
    "colab": {
     "base_uri": "https://localhost:8080/",
     "height": 537
    },
    "id": "cj7esASVr_ok",
    "outputId": "bdd73248-603b-4d80-9924-2fd5f84ed6ba"
   },
   "outputs": [
    {
     "data": {
      "image/png": "[encoded data removed]",
      "text/plain": [
       "<Figure size 1152x648 with 1 Axes>"
      ]
     },
     "metadata": {
      "needs_background": "light"
     },
     "output_type": "display_data"
    }
   ],
   "source": [
    "plt.figure(figsize=(16,9))\n",
    "# сгенерируем много выборочных средних\n",
    "for N in [10, 100, 1000, 10000]:\n",
    "    means = []\n",
    "    for i in range(1000):\n",
    "         means.append(np.mean(uniform_rv.rvs(N)))\n",
    "    plt.hist(means, alpha=0.5)\n",
    "\n",
    "plt.legend(['10', '100', '1000', '10000'])\n",
    "plt.show()"
   ]
  },
  {
   "cell_type": "code",
   "execution_count": null,
   "metadata": {
    "id": "Cz3Dp2SEy1L_"
   },
   "outputs": [],
   "source": []
  },
  {
   "cell_type": "code",
   "execution_count": 21,
   "metadata": {
    "id": "rfCJy33ZUYoy"
   },
   "outputs": [],
   "source": [
    "N = 30\n",
    "# сгенерируем много выборочных средних\n",
    "means = []\n",
    "for i in range(1000):\n",
    "    means.append(np.mean(uniform_rv.rvs(N)))\n",
    "\n",
    "means = np.array(means).astype(np.float32)"
   ]
  },
  {
   "cell_type": "code",
   "execution_count": 22,
   "metadata": {
    "colab": {
     "base_uri": "https://localhost:8080/"
    },
    "id": "Z4NWkc2QUYmA",
    "outputId": "480f76f4-4e2e-46cb-b4f5-e704b0d3e9c9"
   },
   "outputs": [
    {
     "data": {
      "text/plain": [
       "2.5"
      ]
     },
     "execution_count": 22,
     "metadata": {},
     "output_type": "execute_result"
    }
   ],
   "source": [
    "uniform_rv.mean()"
   ]
  },
  {
   "cell_type": "code",
   "execution_count": 23,
   "metadata": {
    "colab": {
     "base_uri": "https://localhost:8080/"
    },
    "id": "pxwM0gmUAwnP",
    "outputId": "0077225a-9e9d-41b2-cc20-44e2d1c6534a"
   },
   "outputs": [
    {
     "data": {
      "text/plain": [
       "0.75"
      ]
     },
     "execution_count": 23,
     "metadata": {},
     "output_type": "execute_result"
    }
   ],
   "source": [
    "uniform_rv.var()"
   ]
  },
  {
   "cell_type": "code",
   "execution_count": 24,
   "metadata": {
    "colab": {
     "base_uri": "https://localhost:8080/"
    },
    "id": "oeJqs2HAUx_V",
    "outputId": "5282eae5-3883-421c-9753-3e54cf8a3e2d"
   },
   "outputs": [
    {
     "data": {
      "text/plain": [
       "0.8660254037844386"
      ]
     },
     "execution_count": 24,
     "metadata": {},
     "output_type": "execute_result"
    }
   ],
   "source": [
    "uniform_rv.std()"
   ]
  },
  {
   "cell_type": "code",
   "execution_count": 25,
   "metadata": {
    "colab": {
     "base_uri": "https://localhost:8080/",
     "height": 283
    },
    "id": "ebIBQt20Uoq9",
    "outputId": "028fc9cb-aecc-4636-f970-21c450621274"
   },
   "outputs": [
    {
     "data": {
      "text/plain": [
       "[]"
      ]
     },
     "execution_count": 25,
     "metadata": {},
     "output_type": "execute_result"
    },
    {
     "data": {
      "image/png": "[encoded data removed]",
      "text/plain": [
       "<Figure size 432x288 with 1 Axes>"
      ]
     },
     "metadata": {
      "needs_background": "light"
     },
     "output_type": "display_data"
    }
   ],
   "source": [
    "norm_rv = sts.norm(loc=uniform_rv.mean(), scale=uniform_rv.std() / np.sqrt(N))\n",
    "plt.hist(means, density=True, bins=40)\n",
    "x = np.linspace(1,4, 100)\n",
    "pdf = norm_rv.pdf(x)\n",
    "plt.plot(x, pdf, label='Теоретическая плотность', alpha=0.5)\n",
    "plt.legend()\n",
    "plt.plot()"
   ]
  },
  {
   "cell_type": "code",
   "execution_count": 26,
   "metadata": {
    "colab": {
     "base_uri": "https://localhost:8080/"
    },
    "id": "ccKqRmK1gsKN",
    "outputId": "2ce29162-4501-496f-f0ad-6e7eb5da1b11"
   },
   "outputs": [
    {
     "name": "stdout",
     "output_type": "stream",
     "text": [
      "Доверительный интервал для среднего по цпт, если нам известна дисперсия: [2.003015284845737, 2.635470816879413] \n",
      "Доверительный интервал для среднего по цпт интервальная оценка: (2.016224029120197, 2.6222620726049533) \n",
      "Доверительный интервал для среднего по цпт методом _zconfint_generic: (2.266142758265225, 2.3723433434599253) \n"
     ]
    }
   ],
   "source": [
    "data = uniform_rv.rvs(N)\n",
    "print(\"Доверительный интервал для среднего по цпт, если нам известна дисперсия: [{}, {}] \".format(\n",
    "    np.mean(data) - 2 * uniform_rv.std() / np.sqrt(N), np.mean(data) + 2 * uniform_rv.std() / np.sqrt(N) \n",
    "))\n",
    "print(\"Доверительный интервал для среднего по цпт интервальная оценка: {} \".format(\n",
    "    sts.norm.interval(alpha=0.95, loc=np.mean(data), \n",
    "                      scale=np.std(data, ddof=1)/np.sqrt(N)) # alternative 'two-sided' only\n",
    "))\n",
    "\n",
    "print(\"Доверительный интервал для среднего по цпт методом _zconfint_generic: {} \".format(\n",
    "    ssw._zconfint_generic(np.mean(data),  np.std(data, ddof=1), alpha=0.95, alternative='two-sided')\n",
    "))"
   ]
  },
  {
   "cell_type": "markdown",
   "metadata": {
    "id": "JxyEqHudzTvz"
   },
   "source": [
    "#### То же и для дискретных, посмотрим на примере биномиального распределения"
   ]
  },
  {
   "cell_type": "code",
   "execution_count": 27,
   "metadata": {
    "colab": {
     "base_uri": "https://localhost:8080/"
    },
    "id": "ibwXLXINzYo2",
    "outputId": "757290d6-7829-45a9-bc73-7e461da83d78"
   },
   "outputs": [
    {
     "data": {
      "text/plain": [
       "array([ 3,  8,  7,  8,  8, 10,  8,  6,  5,  9])"
      ]
     },
     "execution_count": 27,
     "metadata": {},
     "output_type": "execute_result"
    }
   ],
   "source": [
    "binomial_rv = sts.binom(20, 0.4)\n",
    "binomial_rv.rvs(10)\n",
    "\n",
    "# мат ожидание np = 20*0.4 = 8\n",
    "# дисперсия npq = np(1-p) = 20*0.4*0.6 = 8 * 0.6 = 4.8"
   ]
  },
  {
   "cell_type": "code",
   "execution_count": 28,
   "metadata": {
    "colab": {
     "base_uri": "https://localhost:8080/",
     "height": 296
    },
    "id": "CoYZ7SDDzorr",
    "outputId": "2d2c3757-cce2-45e2-eb56-bcb08b2b06d6"
   },
   "outputs": [
    {
     "data": {
      "text/plain": [
       "Text(0.5, 0, '$x$')"
      ]
     },
     "execution_count": 28,
     "metadata": {},
     "output_type": "execute_result"
    },
    {
     "data": {
      "image/png": "[encoded data removed]",
      "text/plain": [
       "<Figure size 432x288 with 1 Axes>"
      ]
     },
     "metadata": {
      "needs_background": "light"
     },
     "output_type": "display_data"
    }
   ],
   "source": [
    "x = np.linspace(0,20,21)\n",
    "pmf = binomial_rv.pmf(x)\n",
    "plt.plot(x, pmf, 'o')\n",
    "\n",
    "plt.ylabel('$P(X=x)$')\n",
    "plt.xlabel('$x$')"
   ]
  },
  {
   "cell_type": "code",
   "execution_count": 29,
   "metadata": {
    "colab": {
     "base_uri": "https://localhost:8080/",
     "height": 537
    },
    "id": "wDRJyTaEzxvt",
    "outputId": "045ae779-01a3-4f38-be6d-128c263f411a"
   },
   "outputs": [
    {
     "data": {
      "image/png": "[encoded data removed]",
      "text/plain": [
       "<Figure size 1152x648 with 1 Axes>"
      ]
     },
     "metadata": {
      "needs_background": "light"
     },
     "output_type": "display_data"
    }
   ],
   "source": [
    "plt.figure(figsize=(16,9))\n",
    "# сгенерируем много выборочных средних\n",
    "for N in [10, 20, 50, 100]:\n",
    "    means = []\n",
    "    for i in range(1000):\n",
    "         means.append(np.mean(binomial_rv.rvs(N)))\n",
    "    plt.hist(means, alpha=0.5)\n",
    "\n",
    "plt.legend(['10', '20', '50', '100'])\n",
    "plt.show()"
   ]
  },
  {
   "cell_type": "markdown",
   "metadata": {
    "id": "ACZdnVgnvph3"
   },
   "source": [
    "### Всегда ли ЦПТ хорошо работает?\n",
    "Вообще в полной формулировке есть формальные требования, определяющие границы применимости данной теоремы. Но пока что, будем говорить, что применять ЦПТ можно, если кол-во примеров по крайней мере пара десятков (30-50), и само распределение случайно величины $X$ не является явно ассимметричным (\"скошенным\")"
   ]
  },
  {
   "cell_type": "markdown",
   "metadata": {
    "id": "Uzode7W90b1Y"
   },
   "source": [
    "#### Попробуем уменьшить вероятность успеха в серии n независимых испытаний, тем самым, сделаем наше распределение успехов несколько более ассиметричным"
   ]
  },
  {
   "cell_type": "code",
   "execution_count": 30,
   "metadata": {
    "colab": {
     "base_uri": "https://localhost:8080/"
    },
    "id": "RJ9S7Zlx0hUB",
    "outputId": "407d4eab-e296-43e2-c466-cf010841b091"
   },
   "outputs": [
    {
     "data": {
      "text/plain": [
       "array([1, 0, 0, 0, 0, 0, 1, 0, 0, 0])"
      ]
     },
     "execution_count": 30,
     "metadata": {},
     "output_type": "execute_result"
    }
   ],
   "source": [
    "binomial_rv = sts.binom(20, 0.01)\n",
    "binomial_rv.rvs(10)"
   ]
  },
  {
   "cell_type": "code",
   "execution_count": 31,
   "metadata": {
    "colab": {
     "base_uri": "https://localhost:8080/",
     "height": 296
    },
    "id": "tbc3AuNx0mYO",
    "outputId": "2928d61e-8bd6-4a42-a1aa-67a38bc1a4fc"
   },
   "outputs": [
    {
     "data": {
      "text/plain": [
       "Text(0.5, 0, '$x$')"
      ]
     },
     "execution_count": 31,
     "metadata": {},
     "output_type": "execute_result"
    },
    {
     "data": {
      "image/png": "[encoded data removed]",
      "text/plain": [
       "<Figure size 432x288 with 1 Axes>"
      ]
     },
     "metadata": {
      "needs_background": "light"
     },
     "output_type": "display_data"
    }
   ],
   "source": [
    "x = np.linspace(0,20,21)\n",
    "pmf = binomial_rv.pmf(x)\n",
    "plt.plot(x, pmf, 'o')\n",
    "plt.ylabel('$P(X=x)$')\n",
    "plt.xlabel('$x$')"
   ]
  },
  {
   "cell_type": "code",
   "execution_count": 32,
   "metadata": {
    "colab": {
     "base_uri": "https://localhost:8080/",
     "height": 537
    },
    "id": "q7vvun5W0tw2",
    "outputId": "19635b92-844a-4669-a3b0-d258c6d499d1"
   },
   "outputs": [
    {
     "data": {
      "image/png": "[encoded data removed]",
      "text/plain": [
       "<Figure size 1152x648 with 1 Axes>"
      ]
     },
     "metadata": {
      "needs_background": "light"
     },
     "output_type": "display_data"
    }
   ],
   "source": [
    "plt.figure(figsize=(16,9))\n",
    "# сгенерируем много выборочных средних\n",
    "for N in [10, 20, 50, 100]:\n",
    "    means = []\n",
    "    for i in range(1000):\n",
    "        means.append(np.mean(binomial_rv.rvs(N)))\n",
    "    plt.hist(means, alpha=0.5)\n",
    "\n",
    "plt.legend(['10', '100', '1000', '10000'])\n",
    "plt.show()"
   ]
  },
  {
   "cell_type": "code",
   "execution_count": null,
   "metadata": {
    "id": "Sdjwf7cqeo3m"
   },
   "outputs": [],
   "source": []
  },
  {
   "cell_type": "code",
   "execution_count": null,
   "metadata": {
    "id": "bD_bDQNQnhhJ"
   },
   "outputs": [],
   "source": []
  }
 ],
 "metadata": {
  "colab": {
   "collapsed_sections": [],
   "name": "master.ipynb",
   "provenance": []
  },
  "kernelspec": {
   "display_name": "Python 3 (ipykernel)",
   "language": "python",
   "name": "python3"
  },
  "language_info": {
   "codemirror_mode": {
    "name": "ipython",
    "version": 3
   },
   "file_extension": ".py",
   "mimetype": "text/x-python",
   "name": "python",
   "nbconvert_exporter": "python",
   "pygments_lexer": "ipython3",
   "version": "3.9.12"
  },
  "toc": {
   "base_numbering": 1,
   "nav_menu": {},
   "number_sections": true,
   "sideBar": true,
   "skip_h1_title": false,
   "title_cell": "Table of Contents",
   "title_sidebar": "Contents",
   "toc_cell": true,
   "toc_position": {},
   "toc_section_display": true,
   "toc_window_display": false
  }
 },
 "nbformat": 4,
 "nbformat_minor": 1
}
