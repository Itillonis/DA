{
 "cells": [
  {
   "cell_type": "markdown",
   "metadata": {
    "toc": true
   },
   "source": [
    "<h1>Table of Contents<span class=\"tocSkip\"></span></h1>\n",
    "<div class=\"toc\"><ul class=\"toc-item\"><li><span><a href=\"#Практика\" data-toc-modified-id=\"Практика-1\"><span class=\"toc-item-num\">1&nbsp;&nbsp;</span>Практика</a></span><ul class=\"toc-item\"><li><span><a href=\"#Определение-вероятности.-События\" data-toc-modified-id=\"Определение-вероятности.-События-1.1\"><span class=\"toc-item-num\">1.1&nbsp;&nbsp;</span>Определение вероятности. События</a></span><ul class=\"toc-item\"><li><span><a href=\"#Задача-1\" data-toc-modified-id=\"Задача-1-1.1.1\"><span class=\"toc-item-num\">1.1.1&nbsp;&nbsp;</span>Задача 1</a></span></li><li><span><a href=\"#Задача-2\" data-toc-modified-id=\"Задача-2-1.1.2\"><span class=\"toc-item-num\">1.1.2&nbsp;&nbsp;</span>Задача 2</a></span></li><li><span><a href=\"#Задача-3\" data-toc-modified-id=\"Задача-3-1.1.3\"><span class=\"toc-item-num\">1.1.3&nbsp;&nbsp;</span>Задача 3</a></span></li><li><span><a href=\"#Задача-4\" data-toc-modified-id=\"Задача-4-1.1.4\"><span class=\"toc-item-num\">1.1.4&nbsp;&nbsp;</span>Задача 4</a></span></li></ul></li><li><span><a href=\"#Вероятность-суммы-событий\" data-toc-modified-id=\"Вероятность-суммы-событий-1.2\"><span class=\"toc-item-num\">1.2&nbsp;&nbsp;</span>Вероятность суммы событий</a></span><ul class=\"toc-item\"><li><span><a href=\"#Задача-5\" data-toc-modified-id=\"Задача-5-1.2.1\"><span class=\"toc-item-num\">1.2.1&nbsp;&nbsp;</span>Задача 5</a></span></li><li><span><a href=\"#Задача-6\" data-toc-modified-id=\"Задача-6-1.2.2\"><span class=\"toc-item-num\">1.2.2&nbsp;&nbsp;</span>Задача 6</a></span></li></ul></li><li><span><a href=\"#Случайные-величины\" data-toc-modified-id=\"Случайные-величины-1.3\"><span class=\"toc-item-num\">1.3&nbsp;&nbsp;</span>Случайные величины</a></span><ul class=\"toc-item\"><li><span><a href=\"#Задача-7\" data-toc-modified-id=\"Задача-7-1.3.1\"><span class=\"toc-item-num\">1.3.1&nbsp;&nbsp;</span>Задача 7</a></span></li><li><span><a href=\"#Задача-8\" data-toc-modified-id=\"Задача-8-1.3.2\"><span class=\"toc-item-num\">1.3.2&nbsp;&nbsp;</span>Задача 8</a></span></li></ul></li><li><span><a href=\"#Условные-вероятности\" data-toc-modified-id=\"Условные-вероятности-1.4\"><span class=\"toc-item-num\">1.4&nbsp;&nbsp;</span>Условные вероятности</a></span><ul class=\"toc-item\"><li><span><a href=\"#Задача-9\" data-toc-modified-id=\"Задача-9-1.4.1\"><span class=\"toc-item-num\">1.4.1&nbsp;&nbsp;</span>Задача 9</a></span></li><li><span><a href=\"#Задача-10\" data-toc-modified-id=\"Задача-10-1.4.2\"><span class=\"toc-item-num\">1.4.2&nbsp;&nbsp;</span>Задача 10</a></span></li></ul></li></ul></li></ul></div>"
   ]
  },
  {
   "cell_type": "markdown",
   "metadata": {
    "id": "pDrecLU-4QjS"
   },
   "source": [
    "# Практика"
   ]
  },
  {
   "cell_type": "code",
   "execution_count": 180,
   "metadata": {},
   "outputs": [],
   "source": [
    "import numpy as np\n",
    "import pandas as pd\n",
    "import matplotlib.pyplot as plt\n",
    "N = 100000"
   ]
  },
  {
   "cell_type": "markdown",
   "metadata": {
    "id": "gUvTNDlMaV-a"
   },
   "source": [
    "## Определение вероятности. События\n",
    "\n",
    "Требуется сгенерировать необходимые выборки и произвести по ним расчеты"
   ]
  },
  {
   "cell_type": "markdown",
   "metadata": {
    "id": "5V70InEBTgup"
   },
   "source": [
    "### Задача 1\n",
    "Брошено две монеты. Найти вероятность того, что монеты выпали разными сторонами"
   ]
  },
  {
   "cell_type": "code",
   "execution_count": 2,
   "metadata": {
    "id": "88Iw-SL3jYQV"
   },
   "outputs": [
    {
     "data": {
      "text/plain": [
       "'50.04%'"
      ]
     },
     "execution_count": 2,
     "metadata": {},
     "output_type": "execute_result"
    }
   ],
   "source": [
    "#Считаем выпадения первой монеты и второй монеты в отдельных списках\n",
    "coin1 = pd.Series(np.random.randint(2, size = N))\n",
    "coin2 = pd.Series(np.random.randint(2, size = N))\n",
    "#Объединяем значения в датафрейм и для каждой пары значений фиксируем, совпадают ли они\n",
    "coins_df = pd.concat([coin1, coin2], axis = 1).rename(columns = {0:'First coin', 1:'Second coin'})\n",
    "coins_df['Different result'] = coins_df['First coin'] != coins_df['Second coin']\n",
    "#Считаем, сколько отличающихся значений в процентах приходится на весь датафрейм\n",
    "result_series = (coins_df['Different result'].value_counts()/N*100).sort_index(ascending=False)\n",
    "str(result_series[0].round(2))+'%'"
   ]
  },
  {
   "cell_type": "markdown",
   "metadata": {
    "id": "t0XOMos2Tl0e"
   },
   "source": [
    "### Задача 2\n",
    "Брошено три монеты. Описать множество всех элементарных событий. Найти вероятности следующих событий:\n",
    "\n",
    "\n",
    "1.   A = {не выпало ни одного герба}\n",
    "2.   B = {выпало четное число гербов}\n",
    "3.   C = {на третьей монете выпал герб}\n"
   ]
  },
  {
   "cell_type": "code",
   "execution_count": 3,
   "metadata": {
    "id": "o7NjAE9uUo-L"
   },
   "outputs": [
    {
     "data": {
      "text/html": [
       "<div>\n",
       "<style scoped>\n",
       "    .dataframe tbody tr th:only-of-type {\n",
       "        vertical-align: middle;\n",
       "    }\n",
       "\n",
       "    .dataframe tbody tr th {\n",
       "        vertical-align: top;\n",
       "    }\n",
       "\n",
       "    .dataframe thead th {\n",
       "        text-align: right;\n",
       "    }\n",
       "</style>\n",
       "<table border=\"1\" class=\"dataframe\">\n",
       "  <thead>\n",
       "    <tr style=\"text-align: right;\">\n",
       "      <th></th>\n",
       "      <th>1</th>\n",
       "      <th>2</th>\n",
       "      <th>3</th>\n",
       "      <th>4</th>\n",
       "      <th>5</th>\n",
       "      <th>6</th>\n",
       "      <th>7</th>\n",
       "      <th>8</th>\n",
       "    </tr>\n",
       "  </thead>\n",
       "  <tbody>\n",
       "    <tr>\n",
       "      <th>Coin1</th>\n",
       "      <td>Решка</td>\n",
       "      <td>Решка</td>\n",
       "      <td>Решка</td>\n",
       "      <td>Решка</td>\n",
       "      <td>Орёл</td>\n",
       "      <td>Орёл</td>\n",
       "      <td>Орёл</td>\n",
       "      <td>Орёл</td>\n",
       "    </tr>\n",
       "    <tr>\n",
       "      <th>Coin2</th>\n",
       "      <td>Решка</td>\n",
       "      <td>Решка</td>\n",
       "      <td>Орёл</td>\n",
       "      <td>Орёл</td>\n",
       "      <td>Решка</td>\n",
       "      <td>Решка</td>\n",
       "      <td>Орёл</td>\n",
       "      <td>Орёл</td>\n",
       "    </tr>\n",
       "    <tr>\n",
       "      <th>Coin3</th>\n",
       "      <td>Решка</td>\n",
       "      <td>Орёл</td>\n",
       "      <td>Решка</td>\n",
       "      <td>Орёл</td>\n",
       "      <td>Решка</td>\n",
       "      <td>Орёл</td>\n",
       "      <td>Решка</td>\n",
       "      <td>Орёл</td>\n",
       "    </tr>\n",
       "  </tbody>\n",
       "</table>\n",
       "</div>"
      ],
      "text/plain": [
       "           1      2      3      4      5      6      7     8\n",
       "Coin1  Решка  Решка  Решка  Решка   Орёл   Орёл   Орёл  Орёл\n",
       "Coin2  Решка  Решка   Орёл   Орёл  Решка  Решка   Орёл  Орёл\n",
       "Coin3  Решка   Орёл  Решка   Орёл  Решка   Орёл  Решка  Орёл"
      ]
     },
     "execution_count": 3,
     "metadata": {},
     "output_type": "execute_result"
    }
   ],
   "source": [
    "#Множество элементарных событий\n",
    "elem_df = pd.DataFrame()\n",
    "i=0\n",
    "while i<8:\n",
    "    bin_i = format(i,'b').zfill(3)\n",
    "    temp_series = pd.Series([bin_i[0], bin_i[1], bin_i[2]])\n",
    "    elem_df = pd.concat([elem_df, temp_series], axis = 1)\n",
    "    i+=1\n",
    "elem_df.rename(index = {0: 'Coin1',1:'Coin2',2:'Coin3'}, inplace=True)\n",
    "elem_df.set_axis(['1', '2', '3', '4', '5','6','7','8'], axis=1, inplace=True)\n",
    "elem_df = elem_df.replace('0', 'Решка').replace('1', 'Орёл')\n",
    "elem_df"
   ]
  },
  {
   "cell_type": "code",
   "execution_count": 4,
   "metadata": {},
   "outputs": [
    {
     "name": "stdout",
     "output_type": "stream",
     "text": [
      "87.35% - не выпало ни одного герба\n",
      "49.58% - выпало четное число гербов\n",
      "49.92% - на третьей монете выпал герб\n"
     ]
    }
   ],
   "source": [
    "#Повторяем формирование датафрейма из первого задания, но с 3-мя монетами\n",
    "coin1 = pd.Series(np.random.randint(2, size = N))\n",
    "coin2 = pd.Series(np.random.randint(2, size = N))\n",
    "coin3 = pd.Series(np.random.randint(2, size = N))\n",
    "coins_df = pd.concat([coin1, coin2, coin3], axis = 1).rename(columns = {0:'First coin', \n",
    "                                                                        1:'Second coin', \n",
    "                                                                        2:'Third coin'})\n",
    "\n",
    "#Считаем в отдельных колонках события A, B и C\n",
    "coins_df['A'] = coins_df['First coin']+coins_df['Second coin']+coins_df['Third coin'] == 0\n",
    "coins_df['B'] = (coins_df['First coin']+coins_df['Second coin']+coins_df['Third coin'])%2 == 0\n",
    "coins_df['C'] = coins_df['Third coin'] == 1\n",
    "result_A = (coins_df['A'].value_counts()/N*100).sort_index(ascending=False)\n",
    "result_B = (coins_df['B'].value_counts()/N*100).sort_index(ascending=False)\n",
    "result_C = (coins_df['C'].value_counts()/N*100).sort_index(ascending=False)\n",
    "print(str(result_A[0].round(2)) + '% - не выпало ни одного герба\\n' + str(result_B[0].round(2)) + '% - выпало четное число гербов\\n'+str(result_C[0].round(2)) +'% - на третьей монете выпал герб')"
   ]
  },
  {
   "cell_type": "markdown",
   "metadata": {},
   "source": [
    "Предлагается также решить задачи: \n",
    "\n",
    "### Задача 3\n",
    "Из двух претендентов E и L на ответственную должность три члена комиссии должны отобрать одного. Каждый член комиссии должен указать либо одного достойного, либо забраковать обоих. Претендент считается выбранным, если он был признана достойным хотя бы двумя членами комиссии.\n",
    "Найти вероятность событий:\n",
    "\n",
    "A = {рекомендован L}, B = {рекомендован E}\n"
   ]
  },
  {
   "cell_type": "code",
   "execution_count": 5,
   "metadata": {},
   "outputs": [
    {
     "name": "stdout",
     "output_type": "stream",
     "text": [
      "74.03% - вероятность того, что рекомендован L\n",
      "74.08% - вероятность того, что рекомендован B\n"
     ]
    }
   ],
   "source": [
    "# Предположим, что вероятность выбора первого, второго и никого из двух одинаковая, т.к. в тексте задачи это не указано\n",
    "choice_1 = pd.Series(np.random.randint(3, size = N))\n",
    "choice_2 = pd.Series(np.random.randint(3, size = N))\n",
    "choice_3 = pd.Series(np.random.randint(3, size = N))\n",
    "choices_df = pd.concat([choice_1, choice_2, choice_3], axis = 1)\n",
    "choices_df['Рекомендован L'] = ((choices_df[0] == 1) & (choices_df[1] == 1))|((choices_df[0] == 1) & (choices_df[2] == 1))|((choices_df[1] == 1) & (choices_df[2] == 1))\n",
    "choices_df['Рекомендован E'] = ((choices_df[0] == 2) & (choices_df[1] == 2))|((choices_df[0] == 2) & (choices_df[2] == 2))|((choices_df[1] == 2) & (choices_df[2] == 2))\n",
    "\n",
    "result_L = (choices_df['Рекомендован L'].value_counts()/N*100).sort_index(ascending=False)\n",
    "result_E = (choices_df['Рекомендован E'].value_counts()/N*100).sort_index(ascending=False)\n",
    "print(str(result_L[0].round(2)) + '% - вероятность того, что рекомендован L\\n' + str(result_E[0].round(2)) + '% - вероятность того, что рекомендован B')"
   ]
  },
  {
   "cell_type": "markdown",
   "metadata": {
    "id": "peM38mVfYa5B"
   },
   "source": [
    "### Задача 4\n",
    "Брошено две игральных кости. Описать множество элементарных событий. Найти вероятности событий:\n",
    "\n",
    "A = {вышло две \"шестерки\"}\n",
    "\n",
    "B = {сумма выпавших очков не меньше 11}\n",
    "\n",
    "C = {не выпала ни одна \"шестерка\"}"
   ]
  },
  {
   "cell_type": "code",
   "execution_count": 6,
   "metadata": {},
   "outputs": [
    {
     "data": {
      "text/html": [
       "<div>\n",
       "<style scoped>\n",
       "    .dataframe tbody tr th:only-of-type {\n",
       "        vertical-align: middle;\n",
       "    }\n",
       "\n",
       "    .dataframe tbody tr th {\n",
       "        vertical-align: top;\n",
       "    }\n",
       "\n",
       "    .dataframe thead th {\n",
       "        text-align: right;\n",
       "    }\n",
       "</style>\n",
       "<table border=\"1\" class=\"dataframe\">\n",
       "  <thead>\n",
       "    <tr style=\"text-align: right;\">\n",
       "      <th></th>\n",
       "      <th>1</th>\n",
       "      <th>2</th>\n",
       "      <th>3</th>\n",
       "      <th>4</th>\n",
       "      <th>5</th>\n",
       "      <th>6</th>\n",
       "    </tr>\n",
       "  </thead>\n",
       "  <tbody>\n",
       "    <tr>\n",
       "      <th>1</th>\n",
       "      <td>2</td>\n",
       "      <td>3</td>\n",
       "      <td>4</td>\n",
       "      <td>5</td>\n",
       "      <td>6</td>\n",
       "      <td>7</td>\n",
       "    </tr>\n",
       "    <tr>\n",
       "      <th>2</th>\n",
       "      <td>3</td>\n",
       "      <td>4</td>\n",
       "      <td>5</td>\n",
       "      <td>6</td>\n",
       "      <td>7</td>\n",
       "      <td>8</td>\n",
       "    </tr>\n",
       "    <tr>\n",
       "      <th>3</th>\n",
       "      <td>4</td>\n",
       "      <td>5</td>\n",
       "      <td>6</td>\n",
       "      <td>7</td>\n",
       "      <td>8</td>\n",
       "      <td>9</td>\n",
       "    </tr>\n",
       "    <tr>\n",
       "      <th>4</th>\n",
       "      <td>5</td>\n",
       "      <td>6</td>\n",
       "      <td>7</td>\n",
       "      <td>8</td>\n",
       "      <td>9</td>\n",
       "      <td>10</td>\n",
       "    </tr>\n",
       "    <tr>\n",
       "      <th>5</th>\n",
       "      <td>6</td>\n",
       "      <td>7</td>\n",
       "      <td>8</td>\n",
       "      <td>9</td>\n",
       "      <td>10</td>\n",
       "      <td>11</td>\n",
       "    </tr>\n",
       "    <tr>\n",
       "      <th>6</th>\n",
       "      <td>7</td>\n",
       "      <td>8</td>\n",
       "      <td>9</td>\n",
       "      <td>10</td>\n",
       "      <td>11</td>\n",
       "      <td>12</td>\n",
       "    </tr>\n",
       "  </tbody>\n",
       "</table>\n",
       "</div>"
      ],
      "text/plain": [
       "   1  2  3   4   5   6\n",
       "1  2  3  4   5   6   7\n",
       "2  3  4  5   6   7   8\n",
       "3  4  5  6   7   8   9\n",
       "4  5  6  7   8   9  10\n",
       "5  6  7  8   9  10  11\n",
       "6  7  8  9  10  11  12"
      ]
     },
     "execution_count": 6,
     "metadata": {},
     "output_type": "execute_result"
    }
   ],
   "source": [
    "#Создаем таблицу сумм значений на гранях кубиков\n",
    "dices_arr = []\n",
    "for i in range(6):\n",
    "    temp_arr =[]\n",
    "    for j in range(6):\n",
    "        temp_arr.append(j+1+i+1)\n",
    "    dices_arr.append(temp_arr)\n",
    "dices_df = pd.DataFrame(dices_arr, index = [1,2,3,4,5,6], columns = [1,2,3,4,5,6])\n",
    "dices_df"
   ]
  },
  {
   "cell_type": "code",
   "execution_count": 14,
   "metadata": {},
   "outputs": [
    {
     "name": "stdout",
     "output_type": "stream",
     "text": [
      "2.74% - вышло две \"шестерки\"\n",
      "8.25% - сумма выпавших очков не меньше 11\n",
      "30.51% - не выпала ни одна \"шестерка\"\n"
     ]
    }
   ],
   "source": [
    "#Собираем датафрейм\n",
    "two_throws_df = pd.DataFrame()\n",
    "dice_1 = pd.Series(np.random.randint(6, size = N))\n",
    "dice_2 = pd.Series(np.random.randint(6, size = N))\n",
    "two_throws_df = pd.concat([dice_1+1, dice_2+1], axis = 1)\n",
    "two_throws_df.rename(columns = {0:'First',1:'Second'}, inplace = True)\n",
    "two_throws_df['Sum']=two_throws_df['First']+two_throws_df['Second']\n",
    "two_throws_df['Sixes']=(two_throws_df['First']!=6)&(two_throws_df['Second']!=6)\n",
    "two_throws_df.head()\n",
    "result_A = (two_throws_df['Sum'].value_counts()/N*100).sort_index(ascending=False)\n",
    "result_B = result_A[12]+result_A[11]\n",
    "result_C = (two_throws_df['Sixes'].value_counts()/N*100).sort_index(ascending=False)\n",
    "print(str(result_A[12].round(2)) + '% - вышло две \"шестерки\"\\n' + str(result_B.round(2)) + '% - сумма выпавших очков не меньше 11\\n'+str(result_C[0].round(2)) +'% - не выпала ни одна \"шестерка\"')"
   ]
  },
  {
   "cell_type": "markdown",
   "metadata": {
    "id": "f-Bi0p8haclB"
   },
   "source": [
    "## Вероятность суммы событий"
   ]
  },
  {
   "cell_type": "markdown",
   "metadata": {
    "id": "g7A7QlvGTnwZ"
   },
   "source": [
    "### Задача 5\n",
    "Брошены две игральные кости. Найти вероятность события D = {выпала хотя бы одна шестёрка}\n"
   ]
  },
  {
   "cell_type": "code",
   "execution_count": 15,
   "metadata": {
    "id": "vjtTJN-kUp9D"
   },
   "outputs": [
    {
     "data": {
      "text/plain": [
       "'69.49% - выпала хотя бы одна шестёрка'"
      ]
     },
     "execution_count": 15,
     "metadata": {},
     "output_type": "execute_result"
    }
   ],
   "source": [
    "#Переиспользуем датафрейм из предыдущего задания\n",
    "#В колонке Sixes считается вероятность того, что не выпала ни одна шестерка\n",
    "#Соответственно, если выпала хоть одна шестерка, в этой колонке будет False\n",
    "str(result_C[1].round(2)) +'% - выпала хотя бы одна шестёрка'"
   ]
  },
  {
   "cell_type": "markdown",
   "metadata": {
    "id": "R1bYSzQQbC6I"
   },
   "source": [
    "Предлагается также решить задачи: \n",
    "\n",
    "### Задача 6\n",
    "В телефонном номере три последние цифры стерлись. Считая, что все возможные значения стершихся цифр равновероятны, найти вероятность событий:\n",
    "\n",
    "A = {Стерлись различные цифры},\n",
    "\n",
    "B = {Стерлись одинаковые цифры},\n",
    "\n",
    "C = {Среди стершихся цифр хотя бы две совпадают},\n",
    "\n",
    "D = {Среди стершихся цифр хотя бы две различны}\n"
   ]
  },
  {
   "cell_type": "code",
   "execution_count": 133,
   "metadata": {},
   "outputs": [
    {
     "data": {
      "text/html": [
       "<div>\n",
       "<style scoped>\n",
       "    .dataframe tbody tr th:only-of-type {\n",
       "        vertical-align: middle;\n",
       "    }\n",
       "\n",
       "    .dataframe tbody tr th {\n",
       "        vertical-align: top;\n",
       "    }\n",
       "\n",
       "    .dataframe thead th {\n",
       "        text-align: right;\n",
       "    }\n",
       "</style>\n",
       "<table border=\"1\" class=\"dataframe\">\n",
       "  <thead>\n",
       "    <tr style=\"text-align: right;\">\n",
       "      <th></th>\n",
       "      <th>First</th>\n",
       "      <th>Second</th>\n",
       "      <th>Third</th>\n",
       "      <th>All_Different</th>\n",
       "      <th>All_Same</th>\n",
       "      <th>At_least_two_same</th>\n",
       "      <th>At_least_two_different</th>\n",
       "    </tr>\n",
       "  </thead>\n",
       "  <tbody>\n",
       "    <tr>\n",
       "      <th>0</th>\n",
       "      <td>6</td>\n",
       "      <td>3</td>\n",
       "      <td>9</td>\n",
       "      <td>True</td>\n",
       "      <td>False</td>\n",
       "      <td>False</td>\n",
       "      <td>True</td>\n",
       "    </tr>\n",
       "    <tr>\n",
       "      <th>1</th>\n",
       "      <td>7</td>\n",
       "      <td>3</td>\n",
       "      <td>2</td>\n",
       "      <td>True</td>\n",
       "      <td>False</td>\n",
       "      <td>False</td>\n",
       "      <td>True</td>\n",
       "    </tr>\n",
       "    <tr>\n",
       "      <th>2</th>\n",
       "      <td>5</td>\n",
       "      <td>9</td>\n",
       "      <td>5</td>\n",
       "      <td>False</td>\n",
       "      <td>False</td>\n",
       "      <td>True</td>\n",
       "      <td>True</td>\n",
       "    </tr>\n",
       "    <tr>\n",
       "      <th>3</th>\n",
       "      <td>7</td>\n",
       "      <td>7</td>\n",
       "      <td>9</td>\n",
       "      <td>False</td>\n",
       "      <td>False</td>\n",
       "      <td>True</td>\n",
       "      <td>True</td>\n",
       "    </tr>\n",
       "    <tr>\n",
       "      <th>4</th>\n",
       "      <td>8</td>\n",
       "      <td>1</td>\n",
       "      <td>0</td>\n",
       "      <td>True</td>\n",
       "      <td>False</td>\n",
       "      <td>False</td>\n",
       "      <td>True</td>\n",
       "    </tr>\n",
       "  </tbody>\n",
       "</table>\n",
       "</div>"
      ],
      "text/plain": [
       "   First  Second  Third  All_Different  All_Same  At_least_two_same  \\\n",
       "0      6       3      9           True     False              False   \n",
       "1      7       3      2           True     False              False   \n",
       "2      5       9      5          False     False               True   \n",
       "3      7       7      9          False     False               True   \n",
       "4      8       1      0           True     False              False   \n",
       "\n",
       "   At_least_two_different  \n",
       "0                    True  \n",
       "1                    True  \n",
       "2                    True  \n",
       "3                    True  \n",
       "4                    True  "
      ]
     },
     "execution_count": 133,
     "metadata": {},
     "output_type": "execute_result"
    }
   ],
   "source": [
    "first_digit = pd.Series(np.random.randint(10, size = N))\n",
    "second_digit = pd.Series(np.random.randint(10, size = N))\n",
    "third_digit = pd.Series(np.random.randint(10, size = N))\n",
    "phone_num_df = pd.concat([first_digit, second_digit, third_digit], axis = 1)\n",
    "phone_num_df.rename(columns = {0: 'First',1:'Second',2:'Third'}, inplace=True)\n",
    "#Считаем количество случаев, когда а) Все цифры попадают под один признак (логическое \"И\") б) Любые две цифры попадают под признак (Логическое \"Или\")\n",
    "phone_num_df['All_Different']=(phone_num_df['First']!=phone_num_df['Second'])&(phone_num_df['First']!=phone_num_df['Third'])&(phone_num_df['Second']!=phone_num_df['Third'])\n",
    "phone_num_df['All_Same']=(phone_num_df['First']==phone_num_df['Second'])&(phone_num_df['First']==phone_num_df['Third'])\n",
    "phone_num_df['At_least_two_same']=(phone_num_df['First']==phone_num_df['Second'])|(phone_num_df['First']==phone_num_df['Third'])|(phone_num_df['Second']==phone_num_df['Third'])\n",
    "phone_num_df['At_least_two_different']=(phone_num_df['First']!=phone_num_df['Second'])|(phone_num_df['First']!=phone_num_df['Third'])|(phone_num_df['Second']!=phone_num_df['Third'])\n",
    "phone_num_df.head()"
   ]
  },
  {
   "cell_type": "code",
   "execution_count": 135,
   "metadata": {},
   "outputs": [
    {
     "name": "stdout",
     "output_type": "stream",
     "text": [
      "27.93% - Стерлись различные цифры\n",
      "1.0% - Стерлись одинаковые цифры\n",
      "72.07% - Среди стершихся цифр хотя бы две совпадают\n",
      "99.0% - Среди стершихся цифр хотя бы две различны\n"
     ]
    }
   ],
   "source": [
    "\n",
    "#Считаем вероятности по колонкам\n",
    "result_A = (phone_num_df['All_Different'].value_counts()/N*100).sort_index(ascending=False)\n",
    "print(str(result_A[0].round(2)) +'% - Стерлись различные цифры')\n",
    "result_B = (phone_num_df['All_Same'].value_counts()/N*100).sort_index(ascending=False)\n",
    "print(str(result_B[1].round(2)) +'% - Стерлись одинаковые цифры')\n",
    "result_C = (phone_num_df['At_least_two_same'].value_counts()/N*100).sort_index(ascending=False)\n",
    "print(str(result_C[0].round(2)) +'% - Среди стершихся цифр хотя бы две совпадают')\n",
    "result_D = (phone_num_df['At_least_two_different'].value_counts()/N*100).sort_index(ascending=False)\n",
    "print(str(result_D[1].round(2)) +'% - Среди стершихся цифр хотя бы две различны')\n"
   ]
  },
  {
   "cell_type": "markdown",
   "metadata": {
    "id": "RnugkR8BalK_"
   },
   "source": [
    "## Случайные величины"
   ]
  },
  {
   "cell_type": "markdown",
   "metadata": {
    "id": "yLoZDZ17UVsp"
   },
   "source": [
    "### Задача 7\n",
    "В лотерее имеется 10 билетов, из которых один выигрышный. Размер выигрыша 10 ден. ед.; стоимость билета 1 ден ед. Найти закон распределения случайной величины X, равной чистому выигрышу участника лотереи, который вытаскивает билет первым."
   ]
  },
  {
   "cell_type": "code",
   "execution_count": 167,
   "metadata": {
    "id": "oNk432sKUqzT"
   },
   "outputs": [
    {
     "data": {
      "text/plain": [
       "Проигрыш    0.90014\n",
       "Выигрыш     0.09986\n",
       "Name: Money, dtype: float64"
      ]
     },
     "execution_count": 167,
     "metadata": {},
     "output_type": "execute_result"
    }
   ],
   "source": [
    "#Посчитаем вероятность выигрыша в зависимости от количества сыгранных лотерей\n",
    "#Предположим, что номер билета игрока всегда 0, а выигрышный номер всегда разный\n",
    "winning_ticket=pd.Series(np.random.randint(10, size = N))\n",
    "bought_ticket = 0\n",
    "lottery_df = pd.DataFrame(winning_ticket, columns = ['Winner'])\n",
    "lottery_df['CheckTicket']=lottery_df['Winner']==bought_ticket\n",
    "#Считаем вероятность выигрыша и проигрыша\n",
    "lottery_df['Money'] = (lottery_df['CheckTicket']).replace(True, 'Выигрыш').replace(False, 'Проигрыш')\n",
    "lottery_df.head()\n",
    "lottery_df['Money'].value_counts()/N\n",
    "    "
   ]
  },
  {
   "cell_type": "markdown",
   "metadata": {
    "id": "U-NK9liSbpvb"
   },
   "source": [
    "Предлагается также решить задачу: \n",
    "\n",
    "### Задача 8\n",
    "Брошены две игральные кости. Найти закон распределения случайной величины $X$, равной сумме выпавших очков. Найти вероятности событий ${X <= 4}$, ${X > 4}$"
   ]
  },
  {
   "cell_type": "code",
   "execution_count": 271,
   "metadata": {},
   "outputs": [
    {
     "name": "stdout",
     "output_type": "stream",
     "text": [
      "2     0.02785\n",
      "3     0.05475\n",
      "4     0.08346\n",
      "5     0.10884\n",
      "6     0.13943\n",
      "7     0.16662\n",
      "8     0.14041\n",
      "9     0.11091\n",
      "10    0.08386\n",
      "11    0.05610\n",
      "12    0.02777\n",
      "Name: Sum, dtype: float64\n",
      "𝑋<=4:  0.16606\n",
      "𝑋>4:  0.83394\n"
     ]
    },
    {
     "data": {
      "image/png": "[encoded data removed]",
      "text/plain": [
       "<Figure size 432x288 with 1 Axes>"
      ]
     },
     "metadata": {
      "needs_background": "light"
     },
     "output_type": "display_data"
    }
   ],
   "source": [
    "first_dice=pd.Series(np.random.randint(6, size = N)+1)\n",
    "second_dice=pd.Series(np.random.randint(6, size = N)+1)\n",
    "two_throws_df = pd.concat([first_dice, second_dice], axis = 1)\n",
    "two_throws_df.rename(columns = {0:'First',1:'Second'}, inplace = True)\n",
    "\n",
    "two_throws_df['Sum']=two_throws_df['First']+two_throws_df['Second']\n",
    "values = (two_throws_df['Sum'].value_counts()/N).sort_index(ascending=True)\n",
    "print(values)\n",
    "plt.plot(values)\n",
    "print('𝑋<=4: ',values.iloc[0:3].sum())\n",
    "print('𝑋>4: ',values.iloc[3:].sum())"
   ]
  },
  {
   "cell_type": "markdown",
   "metadata": {
    "id": "shgW4D83awjK"
   },
   "source": [
    "## Условные вероятности"
   ]
  },
  {
   "cell_type": "markdown",
   "metadata": {
    "id": "Fbu1RFZwWZrk"
   },
   "source": [
    "### Задача 9\n",
    "Из колоды (36 карт) вынимают последовательно без возвращения две карты. Найти вероятность того, что первой картой была шестерка, а второй — семерка. Найти условную вероятность того же события при условии, что обе карты бубновой масти.\n"
   ]
  },
  {
   "cell_type": "code",
   "execution_count": 315,
   "metadata": {
    "id": "037o56awW9-E"
   },
   "outputs": [
    {
     "data": {
      "text/html": [
       "<div>\n",
       "<style scoped>\n",
       "    .dataframe tbody tr th:only-of-type {\n",
       "        vertical-align: middle;\n",
       "    }\n",
       "\n",
       "    .dataframe tbody tr th {\n",
       "        vertical-align: top;\n",
       "    }\n",
       "\n",
       "    .dataframe thead th {\n",
       "        text-align: right;\n",
       "    }\n",
       "</style>\n",
       "<table border=\"1\" class=\"dataframe\">\n",
       "  <thead>\n",
       "    <tr style=\"text-align: right;\">\n",
       "      <th></th>\n",
       "      <th>First</th>\n",
       "      <th>Second</th>\n",
       "    </tr>\n",
       "  </thead>\n",
       "  <tbody>\n",
       "    <tr>\n",
       "      <th>0</th>\n",
       "      <td>26</td>\n",
       "      <td>21</td>\n",
       "    </tr>\n",
       "    <tr>\n",
       "      <th>1</th>\n",
       "      <td>30</td>\n",
       "      <td>19</td>\n",
       "    </tr>\n",
       "    <tr>\n",
       "      <th>2</th>\n",
       "      <td>8</td>\n",
       "      <td>29</td>\n",
       "    </tr>\n",
       "    <tr>\n",
       "      <th>3</th>\n",
       "      <td>16</td>\n",
       "      <td>25</td>\n",
       "    </tr>\n",
       "    <tr>\n",
       "      <th>4</th>\n",
       "      <td>8</td>\n",
       "      <td>5</td>\n",
       "    </tr>\n",
       "  </tbody>\n",
       "</table>\n",
       "</div>"
      ],
      "text/plain": [
       "   First  Second\n",
       "0     26      21\n",
       "1     30      19\n",
       "2      8      29\n",
       "3     16      25\n",
       "4      8       5"
      ]
     },
     "execution_count": 315,
     "metadata": {},
     "output_type": "execute_result"
    }
   ],
   "source": [
    "#Формируем выбор из двух карт на каждый случай\n",
    "cards_arr = []\n",
    "for i in range(N):\n",
    "    x = np.random.choice(range(1,36), size=2, replace=True)\n",
    "    cards_arr.append(x)\n",
    "cards_df = pd.DataFrame(cards_arr, columns = ['First', 'Second'])\n",
    "cards_df.head()"
   ]
  },
  {
   "cell_type": "code",
   "execution_count": 316,
   "metadata": {},
   "outputs": [
    {
     "data": {
      "text/html": [
       "<div>\n",
       "<style scoped>\n",
       "    .dataframe tbody tr th:only-of-type {\n",
       "        vertical-align: middle;\n",
       "    }\n",
       "\n",
       "    .dataframe tbody tr th {\n",
       "        vertical-align: top;\n",
       "    }\n",
       "\n",
       "    .dataframe thead th {\n",
       "        text-align: right;\n",
       "    }\n",
       "</style>\n",
       "<table border=\"1\" class=\"dataframe\">\n",
       "  <thead>\n",
       "    <tr style=\"text-align: right;\">\n",
       "      <th></th>\n",
       "      <th>First</th>\n",
       "      <th>Second</th>\n",
       "      <th>Match</th>\n",
       "    </tr>\n",
       "  </thead>\n",
       "  <tbody>\n",
       "    <tr>\n",
       "      <th>139</th>\n",
       "      <td>3</td>\n",
       "      <td>8</td>\n",
       "      <td>True</td>\n",
       "    </tr>\n",
       "    <tr>\n",
       "      <th>140</th>\n",
       "      <td>3</td>\n",
       "      <td>6</td>\n",
       "      <td>True</td>\n",
       "    </tr>\n",
       "    <tr>\n",
       "      <th>143</th>\n",
       "      <td>4</td>\n",
       "      <td>5</td>\n",
       "      <td>True</td>\n",
       "    </tr>\n",
       "    <tr>\n",
       "      <th>147</th>\n",
       "      <td>4</td>\n",
       "      <td>8</td>\n",
       "      <td>True</td>\n",
       "    </tr>\n",
       "    <tr>\n",
       "      <th>183</th>\n",
       "      <td>2</td>\n",
       "      <td>5</td>\n",
       "      <td>True</td>\n",
       "    </tr>\n",
       "    <tr>\n",
       "      <th>...</th>\n",
       "      <td>...</td>\n",
       "      <td>...</td>\n",
       "      <td>...</td>\n",
       "    </tr>\n",
       "    <tr>\n",
       "      <th>99783</th>\n",
       "      <td>3</td>\n",
       "      <td>7</td>\n",
       "      <td>True</td>\n",
       "    </tr>\n",
       "    <tr>\n",
       "      <th>99824</th>\n",
       "      <td>4</td>\n",
       "      <td>8</td>\n",
       "      <td>True</td>\n",
       "    </tr>\n",
       "    <tr>\n",
       "      <th>99836</th>\n",
       "      <td>4</td>\n",
       "      <td>8</td>\n",
       "      <td>True</td>\n",
       "    </tr>\n",
       "    <tr>\n",
       "      <th>99897</th>\n",
       "      <td>2</td>\n",
       "      <td>5</td>\n",
       "      <td>True</td>\n",
       "    </tr>\n",
       "    <tr>\n",
       "      <th>99996</th>\n",
       "      <td>2</td>\n",
       "      <td>5</td>\n",
       "      <td>True</td>\n",
       "    </tr>\n",
       "  </tbody>\n",
       "</table>\n",
       "<p>1332 rows × 3 columns</p>\n",
       "</div>"
      ],
      "text/plain": [
       "       First  Second  Match\n",
       "139        3       8   True\n",
       "140        3       6   True\n",
       "143        4       5   True\n",
       "147        4       8   True\n",
       "183        2       5   True\n",
       "...      ...     ...    ...\n",
       "99783      3       7   True\n",
       "99824      4       8   True\n",
       "99836      4       8   True\n",
       "99897      2       5   True\n",
       "99996      2       5   True\n",
       "\n",
       "[1332 rows x 3 columns]"
      ]
     },
     "execution_count": 316,
     "metadata": {},
     "output_type": "execute_result"
    }
   ],
   "source": [
    "# Для этой задачи предположим, что шестерки - это значения 1, 2, 3 и 4, а семерки - 5, 6, 7, 8\n",
    "cards_df['Match']=(cards_df['First'].isin([1,2,3,4]))&(cards_df['Second'].isin([5,6,7,8]))\n",
    "cards_df[cards_df['Match'] == True]"
   ]
  },
  {
   "cell_type": "code",
   "execution_count": 318,
   "metadata": {},
   "outputs": [
    {
     "data": {
      "text/html": [
       "<div>\n",
       "<style scoped>\n",
       "    .dataframe tbody tr th:only-of-type {\n",
       "        vertical-align: middle;\n",
       "    }\n",
       "\n",
       "    .dataframe tbody tr th {\n",
       "        vertical-align: top;\n",
       "    }\n",
       "\n",
       "    .dataframe thead th {\n",
       "        text-align: right;\n",
       "    }\n",
       "</style>\n",
       "<table border=\"1\" class=\"dataframe\">\n",
       "  <thead>\n",
       "    <tr style=\"text-align: right;\">\n",
       "      <th></th>\n",
       "      <th>First</th>\n",
       "      <th>Second</th>\n",
       "      <th>Match</th>\n",
       "      <th>SuitMatch</th>\n",
       "    </tr>\n",
       "  </thead>\n",
       "  <tbody>\n",
       "    <tr>\n",
       "      <th>18</th>\n",
       "      <td>20</td>\n",
       "      <td>20</td>\n",
       "      <td>False</td>\n",
       "      <td>True</td>\n",
       "    </tr>\n",
       "    <tr>\n",
       "      <th>23</th>\n",
       "      <td>8</td>\n",
       "      <td>4</td>\n",
       "      <td>False</td>\n",
       "      <td>True</td>\n",
       "    </tr>\n",
       "    <tr>\n",
       "      <th>29</th>\n",
       "      <td>24</td>\n",
       "      <td>4</td>\n",
       "      <td>False</td>\n",
       "      <td>True</td>\n",
       "    </tr>\n",
       "    <tr>\n",
       "      <th>34</th>\n",
       "      <td>4</td>\n",
       "      <td>24</td>\n",
       "      <td>False</td>\n",
       "      <td>True</td>\n",
       "    </tr>\n",
       "    <tr>\n",
       "      <th>42</th>\n",
       "      <td>12</td>\n",
       "      <td>20</td>\n",
       "      <td>False</td>\n",
       "      <td>True</td>\n",
       "    </tr>\n",
       "    <tr>\n",
       "      <th>...</th>\n",
       "      <td>...</td>\n",
       "      <td>...</td>\n",
       "      <td>...</td>\n",
       "      <td>...</td>\n",
       "    </tr>\n",
       "    <tr>\n",
       "      <th>99894</th>\n",
       "      <td>12</td>\n",
       "      <td>8</td>\n",
       "      <td>False</td>\n",
       "      <td>True</td>\n",
       "    </tr>\n",
       "    <tr>\n",
       "      <th>99901</th>\n",
       "      <td>24</td>\n",
       "      <td>28</td>\n",
       "      <td>False</td>\n",
       "      <td>True</td>\n",
       "    </tr>\n",
       "    <tr>\n",
       "      <th>99910</th>\n",
       "      <td>16</td>\n",
       "      <td>12</td>\n",
       "      <td>False</td>\n",
       "      <td>True</td>\n",
       "    </tr>\n",
       "    <tr>\n",
       "      <th>99955</th>\n",
       "      <td>16</td>\n",
       "      <td>32</td>\n",
       "      <td>False</td>\n",
       "      <td>True</td>\n",
       "    </tr>\n",
       "    <tr>\n",
       "      <th>99982</th>\n",
       "      <td>4</td>\n",
       "      <td>16</td>\n",
       "      <td>False</td>\n",
       "      <td>True</td>\n",
       "    </tr>\n",
       "  </tbody>\n",
       "</table>\n",
       "<p>5151 rows × 4 columns</p>\n",
       "</div>"
      ],
      "text/plain": [
       "       First  Second  Match  SuitMatch\n",
       "18        20      20  False       True\n",
       "23         8       4  False       True\n",
       "29        24       4  False       True\n",
       "34         4      24  False       True\n",
       "42        12      20  False       True\n",
       "...      ...     ...    ...        ...\n",
       "99894     12       8  False       True\n",
       "99901     24      28  False       True\n",
       "99910     16      12  False       True\n",
       "99955     16      32  False       True\n",
       "99982      4      16  False       True\n",
       "\n",
       "[5151 rows x 4 columns]"
      ]
     },
     "execution_count": 318,
     "metadata": {},
     "output_type": "execute_result"
    }
   ],
   "source": [
    "# Бубновые карты в рамках этой задачи - те, что делятся на 4 без остатка. Бубновые 6 и 7 - 4 и 8 соответственно\n",
    "cards_df['SuitMatch']=(cards_df['First']%4==0)&(cards_df['Second']%4==0)\n",
    "cards_df[cards_df['SuitMatch'] == True]"
   ]
  },
  {
   "cell_type": "code",
   "execution_count": 325,
   "metadata": {},
   "outputs": [
    {
     "name": "stdout",
     "output_type": "stream",
     "text": [
      "Вероятность первой шестерки и второй семерки -  0.01332\n",
      "Вероятность бубновых шестерки и семерки -  0.00076\n",
      "Условная вероятность -  0.05705705705705706\n"
     ]
    }
   ],
   "source": [
    "#Считаем вероятности двух событий и условную вероятность\n",
    "prob_A = cards_df['Match'].sum()/N\n",
    "prob_B = cards_df[cards_df['SuitMatch'] & cards_df['Match']]['Match'].sum()/N\n",
    "prob_rel = prob_B/prob_A\n",
    "print('Вероятность первой шестерки и второй семерки - ', prob_A)\n",
    "print('Вероятность бубновых шестерки и семерки - ', prob_B)\n",
    "print('Условная вероятность - ', prob_rel)"
   ]
  },
  {
   "cell_type": "markdown",
   "metadata": {
    "id": "hNVxtaz5c57b"
   },
   "source": [
    "Предлагается также решить задачу: \n",
    "\n",
    "### Задача 10\n",
    "Из урны, содержащей два белых и три черных шара, последовательно извлекают два шара; вынутые шары не возвращаются. Если первый шар оказался черным, то перед вторым извлечением в урну добавляют белый шар. В противном случае состав оставшихся шаров не меняют. Найти вероятности событий:\n",
    "\n",
    "$A$ = {извлечены два белых шара},\n",
    "\n",
    "$B$ = {извлечены два черных шара}\n",
    "\n",
    "Указание. Пусть событие $C_1$ = {первый шар белый}, событие $C_2$ = {второй шар белый}. Тогда $A = C_1C_2$, $B = \\overline C_1 \\overline C_2$ "
   ]
  },
  {
   "cell_type": "code",
   "execution_count": 327,
   "metadata": {
    "id": "WSLnhk2sdBt_"
   },
   "outputs": [
    {
     "data": {
      "text/plain": [
       "[1, 1, 0, 0, 0]"
      ]
     },
     "execution_count": 327,
     "metadata": {},
     "output_type": "execute_result"
    }
   ],
   "source": [
    "basket_arr = [1]*2 +[0]*3\n",
    "basket_arr\n",
    "for i in range(N):\n",
    "    "
   ]
  }
 ],
 "metadata": {
  "colab": {
   "collapsed_sections": [],
   "name": "Практика к занятию 11.ipynb",
   "provenance": []
  },
  "kernelspec": {
   "display_name": "Python 3 (ipykernel)",
   "language": "python",
   "name": "python3"
  },
  "language_info": {
   "codemirror_mode": {
    "name": "ipython",
    "version": 3
   },
   "file_extension": ".py",
   "mimetype": "text/x-python",
   "name": "python",
   "nbconvert_exporter": "python",
   "pygments_lexer": "ipython3",
   "version": "3.9.12"
  },
  "toc": {
   "base_numbering": 1,
   "nav_menu": {},
   "number_sections": true,
   "sideBar": true,
   "skip_h1_title": false,
   "title_cell": "Table of Contents",
   "title_sidebar": "Contents",
   "toc_cell": true,
   "toc_position": {},
   "toc_section_display": true,
   "toc_window_display": false
  }
 },
 "nbformat": 4,
 "nbformat_minor": 1
}
